{
 "cells": [
  {
   "cell_type": "markdown",
   "metadata": {},
   "source": [
    "# Big Data Final Project: Song Analysis\n",
    "### Beske, Devico, Madden, & Stone"
   ]
  },
  {
   "cell_type": "markdown",
   "metadata": {},
   "source": [
    "**The following code block contains necessary imports for the project...**"
   ]
  },
  {
   "cell_type": "code",
   "execution_count": 35,
   "metadata": {
    "collapsed": true
   },
   "outputs": [],
   "source": [
    "# Generic imports\n",
    "import requests\n",
    "import json\n",
    "import urllib2\n",
    "import csv\n",
    "import re\n",
    "import nltk\n",
    "from matplotlib import pyplot as plt\n",
    "from afinn import Afinn\n",
    "\n",
    "# Custom imports\n",
    "import spotify_api"
   ]
  },
  {
   "cell_type": "code",
   "execution_count": 16,
   "metadata": {
    "collapsed": true
   },
   "outputs": [],
   "source": [
    "BASEURL = 'http://lyric-api.herokuapp.com/api/find/'\n",
    "\n",
    "with open('data/lyrics.csv', 'wb') as wf:\n",
    "    w = csv.writer(wf, delimiter=' ', quotechar='|', quoting=csv.QUOTE_MINIMAL)\n",
    "    with open('data/regional-global-daily-latest.csv', 'rb') as f:\n",
    "        r = csv.reader(f, delimiter=',')\n",
    "        # Read title line\n",
    "        next(r)\n",
    "        # Loop through lines\n",
    "        for row in r:\n",
    "            try:\n",
    "                data = json.load(urllib2.urlopen(BASEURL + urllib2.quote(row[2]) + '/' + urllib2.quote(row[1])))\n",
    "                if data['err'] != 'not found':\n",
    "                    w.writerow([row[2]] + [row[1]] + [data['lyric'].replace(\"\\n\",\" \")])\n",
    "            except:\n",
    "                pass"
   ]
  },
  {
   "cell_type": "code",
   "execution_count": 18,
   "metadata": {},
   "outputs": [],
   "source": [
    "# Parse lyrics\n",
    "with open('data/lyrics.csv', 'rb') as rr:\n",
    "    r = csv.reader(rr, delimiter='|')\n",
    "    wordcount = {}\n",
    "    for row in r:\n",
    "        row = [l for l in row if l.strip()]\n",
    "        row[-1] = re.sub('[^A-Za-z ]', '', row[-1]).lower()\n",
    "        for w in row[-1].split():\n",
    "            if(wordcount.get(w)):\n",
    "                wordcount[w] += 1\n",
    "            else:\n",
    "                wordcount[w] = 1\n",
    "    "
   ]
  },
  {
   "cell_type": "code",
   "execution_count": 25,
   "metadata": {},
   "outputs": [
    {
     "name": "stdout",
     "output_type": "stream",
     "text": [
      "[nltk_data] Downloading package stopwords to\n",
      "[nltk_data]     C:\\Users\\Student\\AppData\\Roaming\\nltk_data...\n",
      "[nltk_data]   Package stopwords is already up-to-date!\n"
     ]
    }
   ],
   "source": [
    "# Parse wordcounts\n",
    "nltk.download('stopwords')\n",
    "new_wordcount = {}\n",
    "rm_stopword_keys = [w for w in wordcount.keys() if w not in nltk.corpus.stopwords.words('english')]\n",
    "for i in rm_stopword_keys:\n",
    "    new_wordcount[i] = wordcount[i]"
   ]
  },
  {
   "cell_type": "code",
   "execution_count": 36,
   "metadata": {},
   "outputs": [],
   "source": [
    "# Value lists\n",
    "v = []\n",
    "# Key lists\n",
    "k = []\n",
    "for key, value in sorted(new_wordcount.iteritems(), key=lambda (k,v): (v,k), reverse=True):\n",
    "    if len(k) < 20:\n",
    "        k.append(key)\n",
    "        v.append(value)"
   ]
  },
  {
   "cell_type": "code",
   "execution_count": 37,
   "metadata": {},
   "outputs": [
    {
     "data": {
      "image/png": "[encoded data removed]",
      "text/plain": [
       "<Figure size 1008x432 with 1 Axes>"
      ]
     },
     "metadata": {},
     "output_type": "display_data"
    }
   ],
   "source": [
    "# Plot popular words\n",
    "plt.figure(figsize=(14,6))\n",
    "plt.title(\"Top Twenty Words in Top 100 Tracks\")\n",
    "plt.xlabel(\"Word\")\n",
    "plt.ylabel(\"Count\")\n",
    "plt.bar(k, v,width=0.8,color='r',align='center')\n",
    "plt.xticks(rotation=45, ha='right')\n",
    "plt.legend(loc='upper right')\n",
    "plt.show()"
   ]
  },
  {
   "cell_type": "code",
   "execution_count": 45,
   "metadata": {},
   "outputs": [],
   "source": [
    "#Run sentiments on full songs\n",
    "afinn = Afinn()\n",
    "with open('data/lyrics.csv', 'rb') as rr:\n",
    "    r = csv.reader(rr, delimiter='|')\n",
    "    scores = {}\n",
    "    for row in r:\n",
    "        row = [l for l in row if l.strip()]\n",
    "        row[-1] = re.sub('[^A-Za-z ]', '', row[-1]).lower()\n",
    "        songscore = 0\n",
    "        for w in row[-1].split():\n",
    "            songscore += afinn.score(w)\n",
    "        if len(row) < 3:\n",
    "            scores[row[0]] = songscore\n",
    "        else:\n",
    "            scores[row[1]] = songscore\n",
    "    "
   ]
  },
  {
   "cell_type": "code",
   "execution_count": 64,
   "metadata": {},
   "outputs": [],
   "source": [
    "# Aggregate/sort sentiment scores on songs\n",
    "# Value lists\n",
    "sentiment_top_v = []\n",
    "sentiment_bottom_v = []\n",
    "# Key lists\n",
    "sentiment_top_k = []\n",
    "sentiment_bottom_k = []\n",
    "\n",
    "for key, value in sorted(scores.iteritems(), key=lambda (k,v): (v,k), reverse=True):\n",
    "    if value >= 0:\n",
    "        sentiment_top_k.append(key)\n",
    "        sentiment_top_v.append(value)\n",
    "    else:        \n",
    "        sentiment_bottom_k.append(key)\n",
    "        sentiment_bottom_v.append(value)\n",
    "        \n",
    "        \n",
    "#Clean up song titles\n",
    "sentiment_top_k = [i.strip() for i in sentiment_top_k]\n",
    "sentiment_bottom_k = [i.strip() for i in sentiment_bottom_k]"
   ]
  },
  {
   "cell_type": "code",
   "execution_count": 72,
   "metadata": {},
   "outputs": [
    {
     "data": {
      "image/png": "[encoded data removed]",
      "text/plain": [
       "<Figure size 864x576 with 1 Axes>"
      ]
     },
     "metadata": {},
     "output_type": "display_data"
    }
   ],
   "source": [
    "# Plot sentiments words\n",
    "plt.figure(figsize=(12,8))\n",
    "plt.title(\"Sentiment Scores on Top 100 Tracks\")\n",
    "plt.xlabel(\"Tracks\")\n",
    "plt.ylabel(\"Score\")\n",
    "plt.bar(sentiment_top_k, sentiment_top_v,width=1,color='g',align='center')\n",
    "plt.bar(sentiment_bottom_k, sentiment_bottom_v,width=1,color='r',align='center')\n",
    "plt.xticks([])\n",
    "plt.legend(loc='upper right')\n",
    "plt.show()"
   ]
  },
  {
   "cell_type": "code",
   "execution_count": null,
   "metadata": {
    "collapsed": true
   },
   "outputs": [],
   "source": []
  }
 ],
 "metadata": {
  "kernelspec": {
   "display_name": "Python 2",
   "language": "python",
   "name": "python2"
  },
  "language_info": {
   "codemirror_mode": {
    "name": "ipython",
    "version": 2
   },
   "file_extension": ".py",
   "mimetype": "text/x-python",
   "name": "python",
   "nbconvert_exporter": "python",
   "pygments_lexer": "ipython2",
   "version": "2.7.14"
  },
  "nav_menu": {},
  "toc": {
   "navigate_menu": true,
   "number_sections": false,
   "sideBar": true,
   "threshold": 6,
   "toc_cell": false,
   "toc_section_display": "block",
   "toc_window_display": true
  }
 },
 "nbformat": 4,
 "nbformat_minor": 1
}
