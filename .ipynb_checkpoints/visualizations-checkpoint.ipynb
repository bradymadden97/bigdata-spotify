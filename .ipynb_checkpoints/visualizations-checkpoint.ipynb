{
 "cells": [
  {
   "cell_type": "markdown",
   "metadata": {},
   "source": [
    "# Big Data Final Project: Spotify Song Analysis\n",
    "### Beske, Devico, Madden, & Stone"
   ]
  },
  {
   "cell_type": "markdown",
   "metadata": {},
   "source": [
    "**The following code block contains necessary imports for the project...**"
   ]
  },
  {
   "cell_type": "code",
   "execution_count": 4,
   "metadata": {
    "collapsed": true
   },
   "outputs": [],
   "source": [
    "# Generic imports\n",
    "import requests\n",
    "import json\n",
    "\n",
    "# Custom imports\n",
    "import spotify_api"
   ]
  },
  {
   "cell_type": "code",
   "execution_count": 1,
   "metadata": {},
   "outputs": [
    {
     "name": "stdout",
     "output_type": "stream",
     "text": [
      "\n",
      "\n",
      "\n",
      "\n",
      "{\n",
      "  \"message\": {\n",
      "    \"body\": {\n",
      "      \"lyrics\": {\n",
      "        \"action_requested\": \"\", \n",
      "        \"backlink_url\": \"https://www.musixmatch.com/lyrics/Drake/Nice-For-What?utm_source=application&utm_campaign=api&utm_medium=School+Project%3A1409617686029\", \n",
      "        \"can_edit\": 0, \n",
      "        \"explicit\": 1, \n",
      "        \"html_tracking_url\": \"https://tracking.musixmatch.com/t1.0/m_html/e_1/sn_0/l_17708153/su_0/rs_0/tr_3vUCAK51CMwp2YgJVHZFn_lP7hYZVXEHgmhPf6AVRYDpnjuYiFRcqxbbjPBJGNPu9D3dV0fBi5ne7HZqInFL1CUdtFy_7KlecwJQ_0ieoxEnGut4SsQaFXEzh9IKS9iXPIK90ymPGfpHEcl6juORabptyOIA99CHks1ZTZ3GPx8S-LTYJoNjShQf9T65dj_NLzWO_45kwUP6q5kefiYwKJnYJ7sVqmHhNFDhIKVkGtriC2aWyyUkIBEiAoXQ30ip2nxZzf4l1BEeq6LW6W31WgOoSsZEEt_Q27YesIRNMetTCKxQmEdk5VdgAFy4xE7duDBQp2mvDteDbvDynQkMMfYcnvyVoR63zwB3U4TPSF-3MVL-nF69UdXV9Uat4-UQB4BbnfSiRk2bA6Gdh5Iho93ALAFYK0mSX5G3Yc7ildRK9Q74ueHfu72MP3y0eXrQkJ71/\", \n",
      "        \"instrumental\": 0, \n",
      "        \"locked\": 0, \n",
      "        \"lyrics_body\": \"I wanna know who mothafuckin' representin' in here tonight\\nHold on, hold on\\n\\nI keep lettin' you back in (lettin' you back in)\\nHow can I, explain myself?\\n\\nCare for me, care for me, you said you'd care for me\\nThere for me, there for me, said you'd be there for me\\n(Lil Weezyana shit)\\nCry for me, cry for me, you said you'd die for me\\n(Murda on the beat)\\nGive to me, give to me, why won't you live for me?\\nCare for me, care for me, I know you care for me\\nA song for y'all to cut up to, you know?\\nThere for me, there for me, said you'd be there for me (yeah)\\nCry for me, cry for me, you said you'd die for me\\nGive to me, give to me, why won't you live for me?\\n\\nEverybody get your mothafuckin' roll on\\nI know shorty and she doesn't want no slow song\\nHad a man last year, life goes on\\nHaven't let that thing loose, girl, in so long\\nYou've been inside, know you like to lay low\\nI've been peepin' what you bringin' to the table\\nWorkin' hard, girl, everything paid for\\nFirst, last phone bill, car note, cable\\nWith your phone out, gotta hit them angles\\nWith your phone out, snappin' like you Fabo\\nAnd you showin' off, but it's alright\\nAnd you showin' off, but it's alright (alright!)\\nIt's a short life, yeah\\n\\nCare for me, care for me, you said you'd care for me\\nThere for me, there for me, said you'd be there for me\\nCry for me, cry for me, you said you'd die for me\\n...\\n\\n******* This Lyrics is NOT for Commercial use *******\\n(1409617686029)\", \n",
      "        \"lyrics_copyright\": \"Lyrics powered by www.musixmatch.com. This Lyrics is NOT for Commercial use and only 30% of the lyrics are returned.\", \n",
      "        \"lyrics_id\": 17708153, \n",
      "        \"lyrics_language\": \"en\", \n",
      "        \"lyrics_language_description\": \"English\", \n",
      "        \"pixel_tracking_url\": \"https://tracking.musixmatch.com/t1.0/m_img/e_1/sn_0/l_17708153/su_0/rs_0/tr_3vUCAHhPd295oMaTjf5gCVSK4ed_rNCol_Mk4CkFz7YEcLdpy0JF17-6oGG1NAXcL2_G0ixdClWd3rfTYAfYw2LxZLYA_QmSOakm44EBWoP028eFknMNcdlFvUEzVqj11H2W7wA6Zr-oCd20_WPrfhqd-HBJI26gZuy_w1idTWafKyAmX4Gz1-wdTVZNypdH0i1-_zPdJfhueH2fwaCGEeHtLK2n9VUOZ7LsrCDnTD21H0LM5XzWIAYY1CPmc0huGfyg1y93s41a9BFrbzmQZPyhnXYesoIz5zpMBNzWCdZn2-OaYn9PEP3WL2pqJtuyAt5ew0SWdjMrQ-i-E5W70IN0MiTa8gYN_AVZuxmPB5vM0qZOi0hOMHpuPV-tWl0IzYAnx_u2kFctm-u2WbIDGSPq-C9rh57y8vOlMO1sH3ue7qZdNBVCMYePxIsxwtnYQISt/\", \n",
      "        \"published_status\": 4, \n",
      "        \"publisher_list\": [], \n",
      "        \"restricted\": 0, \n",
      "        \"script_tracking_url\": \"https://tracking.musixmatch.com/t1.0/m_js/e_1/sn_0/l_17708153/su_0/rs_0/tr_3vUCAD3Kq8yIqbMMr1NydpnVAoWVPVH3gGVwc9y7cmcJNDxPVtQbDpmxLp3v7vOOpWrCNYvG-sQ6ER2eB5g4HpgR0vy3tOBHbiaXqWFQHHtZ9cWF3xtjXySlDLJKbobv77MtfX2toU-O9mo_j3AEa5yd3vDEykueCkCLRpEbyldlC-x0G5tfrjNoUBbuKxe9DuveSRQjhKG2UlcXwND5QdNEiNwhhfIrmimdQMnp2yTe06x180WfFRGKfyIevT2pcJBXDFEDWDwbISNp-LuXgwmjTyAkDPVJ9HJFDsSbRD1lahddh76l-3-XZDnaN06EvRDk9SlKPGMhD3_NdcvpWbXfmPsIM3b_qMyUC51RHU5FEYrLAFNg9Lnr13h4aVLWCk2hc35E2Aw4GtgY4yCoPDeW4_HvnA4njeq9W0om6-awSz1rd1_JNXk19jSsUKUJSVqr/\", \n",
      "        \"updated_time\": \"2018-04-10T14:16:27Z\", \n",
      "        \"verified\": 0, \n",
      "        \"writer_list\": []\n",
      "      }\n",
      "    }, \n",
      "    \"header\": {\n",
      "      \"execute_time\": 0.082267999649048, \n",
      "      \"status_code\": 200\n",
      "    }\n",
      "  }\n",
      "}\n"
     ]
    }
   ],
   "source": [
    "import requests\n",
    "import urllib\n",
    "import json\n",
    "import musixmatch_config\n",
    "\n",
    "###################################################################################################\n",
    "# Variable declaration\n",
    "###################################################################################################\n",
    "\n",
    "URL_BASE = \"http://api.musixmatch.com/ws/1.1/\"\n",
    "API_TOKEN = musixmatch_config.apiKey\n",
    "\n",
    "###################################################################################################\n",
    "# Function definitions\n",
    "###################################################################################################\n",
    "\n",
    "\n",
    "def api_generic(endpoint, **kwargs):\n",
    "\tkwargs['apikey'] = API_TOKEN\n",
    "\tquerystring = ''.join([k + \"=\" + str(kwargs[k]) + \"&\" for k in kwargs.keys() if kwargs[k]])\n",
    "\tdata = requests.get(URL_BASE + endpoint + '?' + querystring)\n",
    "\treturn data.json()\n",
    "\n",
    "\n",
    "def print_json(jsondata):\n",
    "\tprint(json.dumps(jsondata, indent=2, sort_keys=True))\n",
    "\n",
    "\n",
    "###################################################################################################\n",
    "# Driver function\n",
    "###################################################################################################\n",
    "\n",
    "for i in \n",
    "\tprint_json(api_generic('track.lyrics.get', track_isrc='USCM51800077'))"
   ]
  },
  {
   "cell_type": "code",
   "execution_count": null,
   "metadata": {
    "collapsed": true
   },
   "outputs": [],
   "source": []
  }
 ],
 "metadata": {
  "kernelspec": {
   "display_name": "Python 2",
   "language": "python",
   "name": "python2"
  },
  "language_info": {
   "codemirror_mode": {
    "name": "ipython",
    "version": 2
   },
   "file_extension": ".py",
   "mimetype": "text/x-python",
   "name": "python",
   "nbconvert_exporter": "python",
   "pygments_lexer": "ipython2",
   "version": "2.7.14"
  },
  "nav_menu": {},
  "toc": {
   "navigate_menu": true,
   "number_sections": false,
   "sideBar": true,
   "threshold": 6,
   "toc_cell": false,
   "toc_section_display": "block",
   "toc_window_display": true
  }
 },
 "nbformat": 4,
 "nbformat_minor": 1
}
