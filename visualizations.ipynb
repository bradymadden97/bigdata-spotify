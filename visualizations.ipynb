{
 "cells": [
  {
   "cell_type": "markdown",
   "metadata": {},
   "source": [
    "# Big Data Final Project: Spotify Song Analysis\n",
    "### Beske, Devico, Madden, & Stone"
   ]
  },
  {
   "cell_type": "markdown",
   "metadata": {},
   "source": [
    "**The following code block contains necessary imports for the project...**"
   ]
  },
  {
   "cell_type": "code",
   "execution_count": 9,
   "metadata": {
    "collapsed": true
   },
   "outputs": [],
   "source": [
    "# Generic imports\n",
    "import requests\n",
    "import json\n",
    "import urllib2\n",
    "import csv\n",
    "\n",
    "# Custom imports\n",
    "import spotify_api"
   ]
  },
  {
   "cell_type": "code",
   "execution_count": 16,
   "metadata": {},
   "outputs": [],
   "source": [
    "BASEURL = 'http://lyric-api.herokuapp.com/api/find/'\n",
    "\n",
    "with open('data/lyrics.csv', 'wb') as wf:\n",
    "    w = csv.writer(wf, delimiter=' ', quotechar='|', quoting=csv.QUOTE_MINIMAL)\n",
    "    with open('data/regional-global-daily-latest.csv', 'rb') as f:\n",
    "        r = csv.reader(f, delimiter=',')\n",
    "        # Read title line\n",
    "        next(r)\n",
    "        # Loop through lines\n",
    "        for row in r:\n",
    "            try:\n",
    "                data = json.load(urllib2.urlopen(BASEURL + urllib2.quote(row[2]) + '/' + urllib2.quote(row[1])))\n",
    "                if data['err'] != 'not found':\n",
    "                    w.writerow([row[2]] + [row[1]] + [data['lyric'].replace(\"\\n\",\" \")])\n",
    "            except:\n",
    "                pass"
   ]
  },
  {
   "cell_type": "code",
   "execution_count": 26,
   "metadata": {},
   "outputs": [
    {
     "name": "stdout",
     "output_type": "stream",
     "text": [
      "['Drake ', 'Nice For What', ' ', \"I wanna know who motherfuckin' representin' in here tonight Hold on, hold on  I keep lettin' you back in (lettin' you back in) How can I, explain myself?  Care for me, care for me, you said you'd care for me There for me, there for me, said you'd be there for me (Louisiana shit) Cry for me, cry for me, you said you'd die for me (Murda on the beat) Give to me, give to me, why won't you live for me? Care for me, care for me, I know you care for me A song for y'all to cut up to, you know? There for me, there for me, said you'd be there for me (yeah) Cry for me, cry for me, you said you'd die for me Give to me, give to me, why won't you live for me?  Everybody get your motherfuckin' roll on I know shorty and she doesn't want no slow song Had a man last year, life goes on Haven't let that thing loose, girl, in so long You've been inside, know you like to lay low I've been peepin' what you bringin' to the table Workin' hard, girl, everything paid for First, last phone bill, car note, cable With your phone out, gotta hit them angles With your phone out, snappin' like you Fabo And you showin' off, but it's alright And you showin' off, but it's alright (alright!) It's a short life, yeah  Care for me, care for me, you said you'd care for me There for me, there for me, said you'd be there for me Cry for me, cry for me, you said you'd die for me Give to me, give to me, why won't you live for me?  That's a real one in your reflection Without a follow, without a mention You really pipin' up on these niggas You gotta be nice for what to these niggas? I understand, you got a hunnid bands, you got a baby Benz You got some bad friends, high school pics You was even bad then You ain't stressin' off no lover in the past tense You already had them Work at 8 A.M., finish 'round five Hoes talk down, you don't see 'em outside Yeah, they don't really be the same offline You know dark days, you know hard times Doin' overtime for the last month Saturday, call the girls, get 'em gassed up Gotta hit the club, gotta make that ass jump Gotta hit the club like you hit them motherfuckin' angles With your phone out, snappin' like you Fabo And you showin' off, but it's alright And you showin' off, but it's alright It's a short life  Uh-huh! (Oh yeah!) These hoes! (They hate!) Your boy! (Today!) I may! (Watch the breakdown)  Care for me, care for me, you said you'd care for me There for me, there for me, said you'd be there for me Cry for me, cry for me, you said you'd die for me Give to me, give to me, why won't you live for me?  Gotta make that jump, gotta make that, gotta, gotta make that Gotta make that jump, gotta make that, gotta, gotta make that Gotta, gotta, gotta g-g-gotta, g-g-gotta, gotta Gotta, g-g-gotta, gotta, gotta make that jump, jump (let's go) Bend it over, lift it up, bend it over, lift it up Make that jump, jump Bend it over, lift it up, bend it over, lift it up Make that jump, jump Bend it over, over, over, over, over, lift it up Make that jump, jump Bend it over, lift it up (make that jump, jump) Bend it over, lift it up (make that jump, jump)  That's a real one in your reflection Without a follow, without a mention You rarely pipin' up on these niggas You gotta be, nice for what to these niggas? I understand  Care for me, care for me, you said you'd care for me There for me, there for me, said you'd be there for me Give to me, give to me, why won't you live for me? Cry for me, cry for me, you said you'd cry for me  Gotta hit the club like you hit them, hit them, hit them angles It's a short life, yeah Cry for me, cry for me, you said you'd die for me Give to me, give to me, why won't you live for me?\", '']\n"
     ]
    }
   ],
   "source": [
    "# Begin to parse lyrics cs\n",
    "with open('data/lyrics.csv', 'rb') as rr:\n",
    "    r = csv.reader(rr, delimiter='|')\n",
    "    d = next(r)\n",
    "    print(d)\n",
    "    "
   ]
  },
  {
   "cell_type": "code",
   "execution_count": null,
   "metadata": {
    "collapsed": true
   },
   "outputs": [],
   "source": []
  }
 ],
 "metadata": {
  "kernelspec": {
   "display_name": "Python 2",
   "language": "python",
   "name": "python2"
  },
  "language_info": {
   "codemirror_mode": {
    "name": "ipython",
    "version": 2
   },
   "file_extension": ".py",
   "mimetype": "text/x-python",
   "name": "python",
   "nbconvert_exporter": "python",
   "pygments_lexer": "ipython2",
   "version": "2.7.14"
  },
  "nav_menu": {},
  "toc": {
   "navigate_menu": true,
   "number_sections": false,
   "sideBar": true,
   "threshold": 6,
   "toc_cell": false,
   "toc_section_display": "block",
   "toc_window_display": true
  }
 },
 "nbformat": 4,
 "nbformat_minor": 1
}
